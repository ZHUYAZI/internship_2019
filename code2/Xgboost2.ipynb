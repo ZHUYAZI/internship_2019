{
 "cells": [
  {
   "cell_type": "code",
   "execution_count": 1,
   "metadata": {},
   "outputs": [],
   "source": [
    "import pandas as pd\n",
    "import numpy as np"
   ]
  },
  {
   "cell_type": "code",
   "execution_count": 2,
   "metadata": {},
   "outputs": [],
   "source": [
    "file=pd.DataFrame()\n",
    "for i in range(10):\n",
    "    f1=pd.read_csv('/home/yazi/Documents/stage/data/car_afc_train/train'+str(i)+'_first.csv',delimiter=';',encoding='iso 8859-1',dtype=str)\n",
    "    f2=pd.read_csv('/home/yazi/Documents/stage/data/car_afc_train/train'+str(i)+'_last.csv',delimiter=';',encoding='iso 8859-1',dtype=str)\n",
    "    file=pd.concat([f1,f2,file],ignore_index=True)"
   ]
  },
  {
   "cell_type": "code",
   "execution_count": 3,
   "metadata": {},
   "outputs": [],
   "source": [
    "data1_true=pd.read_csv('/home/yazi/Documents/stage/data/data1_true.csv',delimiter=';',encoding='iso 8859-1')\n",
    "data2_true=pd.read_csv('/home/yazi/Documents/stage/data/data2_true.csv',delimiter=';',encoding='iso 8859-1')\n",
    "data1_false=pd.read_csv('/home/yazi/Documents/stage/data/data1_false.csv',delimiter=';',encoding='iso 8859-1')\n",
    "data2_false=pd.read_csv('/home/yazi/Documents/stage/data/data2_false.csv',delimiter=';',encoding='iso 8859-1')"
   ]
  },
  {
   "cell_type": "code",
   "execution_count": 4,
   "metadata": {
    "scrolled": true
   },
   "outputs": [
    {
     "data": {
      "text/html": [
       "<div>\n",
       "<style scoped>\n",
       "    .dataframe tbody tr th:only-of-type {\n",
       "        vertical-align: middle;\n",
       "    }\n",
       "\n",
       "    .dataframe tbody tr th {\n",
       "        vertical-align: top;\n",
       "    }\n",
       "\n",
       "    .dataframe thead th {\n",
       "        text-align: right;\n",
       "    }\n",
       "</style>\n",
       "<table border=\"1\" class=\"dataframe\">\n",
       "  <thead>\n",
       "    <tr style=\"text-align: right;\">\n",
       "      <th></th>\n",
       "      <th>Ot</th>\n",
       "      <th>Dt</th>\n",
       "      <th>DUREE</th>\n",
       "      <th>NBTRAJTC</th>\n",
       "      <th>dist</th>\n",
       "      <th>parking</th>\n",
       "    </tr>\n",
       "  </thead>\n",
       "  <tbody>\n",
       "    <tr>\n",
       "      <th>0</th>\n",
       "      <td>18300.0</td>\n",
       "      <td>19800.0</td>\n",
       "      <td>1500.0</td>\n",
       "      <td>1.0</td>\n",
       "      <td>20362.956563</td>\n",
       "      <td>1</td>\n",
       "    </tr>\n",
       "    <tr>\n",
       "      <th>1</th>\n",
       "      <td>34200.0</td>\n",
       "      <td>35340.0</td>\n",
       "      <td>1140.0</td>\n",
       "      <td>1.0</td>\n",
       "      <td>1941.648784</td>\n",
       "      <td>1</td>\n",
       "    </tr>\n",
       "    <tr>\n",
       "      <th>2</th>\n",
       "      <td>36000.0</td>\n",
       "      <td>37800.0</td>\n",
       "      <td>1800.0</td>\n",
       "      <td>2.0</td>\n",
       "      <td>23648.467181</td>\n",
       "      <td>1</td>\n",
       "    </tr>\n",
       "    <tr>\n",
       "      <th>3</th>\n",
       "      <td>27000.0</td>\n",
       "      <td>31800.0</td>\n",
       "      <td>4800.0</td>\n",
       "      <td>3.0</td>\n",
       "      <td>35474.638828</td>\n",
       "      <td>1</td>\n",
       "    </tr>\n",
       "    <tr>\n",
       "      <th>4</th>\n",
       "      <td>27000.0</td>\n",
       "      <td>32400.0</td>\n",
       "      <td>5400.0</td>\n",
       "      <td>3.0</td>\n",
       "      <td>35713.582850</td>\n",
       "      <td>1</td>\n",
       "    </tr>\n",
       "    <tr>\n",
       "      <th>5</th>\n",
       "      <td>30000.0</td>\n",
       "      <td>32400.0</td>\n",
       "      <td>2400.0</td>\n",
       "      <td>1.0</td>\n",
       "      <td>13400.000000</td>\n",
       "      <td>1</td>\n",
       "    </tr>\n",
       "    <tr>\n",
       "      <th>6</th>\n",
       "      <td>27900.0</td>\n",
       "      <td>33600.0</td>\n",
       "      <td>5700.0</td>\n",
       "      <td>3.0</td>\n",
       "      <td>32614.260685</td>\n",
       "      <td>1</td>\n",
       "    </tr>\n",
       "    <tr>\n",
       "      <th>7</th>\n",
       "      <td>48600.0</td>\n",
       "      <td>51300.0</td>\n",
       "      <td>2700.0</td>\n",
       "      <td>1.0</td>\n",
       "      <td>16319.620094</td>\n",
       "      <td>1</td>\n",
       "    </tr>\n",
       "    <tr>\n",
       "      <th>8</th>\n",
       "      <td>19800.0</td>\n",
       "      <td>22500.0</td>\n",
       "      <td>2700.0</td>\n",
       "      <td>1.0</td>\n",
       "      <td>19009.471324</td>\n",
       "      <td>1</td>\n",
       "    </tr>\n",
       "    <tr>\n",
       "      <th>9</th>\n",
       "      <td>30000.0</td>\n",
       "      <td>30300.0</td>\n",
       "      <td>300.0</td>\n",
       "      <td>2.0</td>\n",
       "      <td>100.000000</td>\n",
       "      <td>1</td>\n",
       "    </tr>\n",
       "    <tr>\n",
       "      <th>10</th>\n",
       "      <td>66000.0</td>\n",
       "      <td>66600.0</td>\n",
       "      <td>600.0</td>\n",
       "      <td>1.0</td>\n",
       "      <td>1421.267040</td>\n",
       "      <td>1</td>\n",
       "    </tr>\n",
       "    <tr>\n",
       "      <th>11</th>\n",
       "      <td>21600.0</td>\n",
       "      <td>27000.0</td>\n",
       "      <td>5400.0</td>\n",
       "      <td>2.0</td>\n",
       "      <td>41824.872982</td>\n",
       "      <td>1</td>\n",
       "    </tr>\n",
       "    <tr>\n",
       "      <th>12</th>\n",
       "      <td>25200.0</td>\n",
       "      <td>32400.0</td>\n",
       "      <td>7200.0</td>\n",
       "      <td>2.0</td>\n",
       "      <td>24935.917870</td>\n",
       "      <td>1</td>\n",
       "    </tr>\n",
       "    <tr>\n",
       "      <th>13</th>\n",
       "      <td>27000.0</td>\n",
       "      <td>31500.0</td>\n",
       "      <td>4500.0</td>\n",
       "      <td>1.0</td>\n",
       "      <td>30084.215130</td>\n",
       "      <td>1</td>\n",
       "    </tr>\n",
       "    <tr>\n",
       "      <th>14</th>\n",
       "      <td>24300.0</td>\n",
       "      <td>29100.0</td>\n",
       "      <td>4800.0</td>\n",
       "      <td>2.0</td>\n",
       "      <td>20260.799589</td>\n",
       "      <td>1</td>\n",
       "    </tr>\n",
       "    <tr>\n",
       "      <th>15</th>\n",
       "      <td>25200.0</td>\n",
       "      <td>27060.0</td>\n",
       "      <td>1860.0</td>\n",
       "      <td>1.0</td>\n",
       "      <td>13061.393494</td>\n",
       "      <td>1</td>\n",
       "    </tr>\n",
       "    <tr>\n",
       "      <th>16</th>\n",
       "      <td>25200.0</td>\n",
       "      <td>29040.0</td>\n",
       "      <td>3840.0</td>\n",
       "      <td>2.0</td>\n",
       "      <td>28540.847920</td>\n",
       "      <td>1</td>\n",
       "    </tr>\n",
       "    <tr>\n",
       "      <th>17</th>\n",
       "      <td>26100.0</td>\n",
       "      <td>30600.0</td>\n",
       "      <td>4500.0</td>\n",
       "      <td>3.0</td>\n",
       "      <td>39805.778475</td>\n",
       "      <td>1</td>\n",
       "    </tr>\n",
       "    <tr>\n",
       "      <th>18</th>\n",
       "      <td>47700.0</td>\n",
       "      <td>49500.0</td>\n",
       "      <td>1800.0</td>\n",
       "      <td>1.0</td>\n",
       "      <td>6484.597135</td>\n",
       "      <td>1</td>\n",
       "    </tr>\n",
       "    <tr>\n",
       "      <th>19</th>\n",
       "      <td>26100.0</td>\n",
       "      <td>30600.0</td>\n",
       "      <td>4500.0</td>\n",
       "      <td>2.0</td>\n",
       "      <td>35467.449866</td>\n",
       "      <td>1</td>\n",
       "    </tr>\n",
       "    <tr>\n",
       "      <th>20</th>\n",
       "      <td>26700.0</td>\n",
       "      <td>31500.0</td>\n",
       "      <td>4800.0</td>\n",
       "      <td>2.0</td>\n",
       "      <td>30620.581314</td>\n",
       "      <td>1</td>\n",
       "    </tr>\n",
       "    <tr>\n",
       "      <th>21</th>\n",
       "      <td>27000.0</td>\n",
       "      <td>33300.0</td>\n",
       "      <td>6300.0</td>\n",
       "      <td>1.0</td>\n",
       "      <td>28338.136848</td>\n",
       "      <td>1</td>\n",
       "    </tr>\n",
       "    <tr>\n",
       "      <th>22</th>\n",
       "      <td>25800.0</td>\n",
       "      <td>31500.0</td>\n",
       "      <td>5700.0</td>\n",
       "      <td>2.0</td>\n",
       "      <td>41388.162559</td>\n",
       "      <td>1</td>\n",
       "    </tr>\n",
       "    <tr>\n",
       "      <th>23</th>\n",
       "      <td>22800.0</td>\n",
       "      <td>29400.0</td>\n",
       "      <td>6600.0</td>\n",
       "      <td>4.0</td>\n",
       "      <td>62309.068361</td>\n",
       "      <td>1</td>\n",
       "    </tr>\n",
       "    <tr>\n",
       "      <th>24</th>\n",
       "      <td>29400.0</td>\n",
       "      <td>35700.0</td>\n",
       "      <td>6300.0</td>\n",
       "      <td>3.0</td>\n",
       "      <td>41629.316593</td>\n",
       "      <td>1</td>\n",
       "    </tr>\n",
       "    <tr>\n",
       "      <th>25</th>\n",
       "      <td>26100.0</td>\n",
       "      <td>30600.0</td>\n",
       "      <td>4500.0</td>\n",
       "      <td>2.0</td>\n",
       "      <td>45632.554169</td>\n",
       "      <td>1</td>\n",
       "    </tr>\n",
       "    <tr>\n",
       "      <th>26</th>\n",
       "      <td>18600.0</td>\n",
       "      <td>27000.0</td>\n",
       "      <td>8400.0</td>\n",
       "      <td>4.0</td>\n",
       "      <td>54800.091241</td>\n",
       "      <td>1</td>\n",
       "    </tr>\n",
       "    <tr>\n",
       "      <th>27</th>\n",
       "      <td>18000.0</td>\n",
       "      <td>24300.0</td>\n",
       "      <td>6300.0</td>\n",
       "      <td>2.0</td>\n",
       "      <td>65060.971404</td>\n",
       "      <td>1</td>\n",
       "    </tr>\n",
       "    <tr>\n",
       "      <th>28</th>\n",
       "      <td>22800.0</td>\n",
       "      <td>27000.0</td>\n",
       "      <td>4200.0</td>\n",
       "      <td>2.0</td>\n",
       "      <td>24087.548651</td>\n",
       "      <td>1</td>\n",
       "    </tr>\n",
       "    <tr>\n",
       "      <th>29</th>\n",
       "      <td>24300.0</td>\n",
       "      <td>29400.0</td>\n",
       "      <td>5100.0</td>\n",
       "      <td>3.0</td>\n",
       "      <td>46044.000695</td>\n",
       "      <td>1</td>\n",
       "    </tr>\n",
       "    <tr>\n",
       "      <th>...</th>\n",
       "      <td>...</td>\n",
       "      <td>...</td>\n",
       "      <td>...</td>\n",
       "      <td>...</td>\n",
       "      <td>...</td>\n",
       "      <td>...</td>\n",
       "    </tr>\n",
       "    <tr>\n",
       "      <th>21489</th>\n",
       "      <td>57600.0</td>\n",
       "      <td>64800.0</td>\n",
       "      <td>7200.0</td>\n",
       "      <td>1.0</td>\n",
       "      <td>45449.312426</td>\n",
       "      <td>0</td>\n",
       "    </tr>\n",
       "    <tr>\n",
       "      <th>21490</th>\n",
       "      <td>62100.0</td>\n",
       "      <td>63900.0</td>\n",
       "      <td>1800.0</td>\n",
       "      <td>1.0</td>\n",
       "      <td>16530.275255</td>\n",
       "      <td>0</td>\n",
       "    </tr>\n",
       "    <tr>\n",
       "      <th>21491</th>\n",
       "      <td>60300.0</td>\n",
       "      <td>62100.0</td>\n",
       "      <td>1800.0</td>\n",
       "      <td>1.0</td>\n",
       "      <td>5122.499390</td>\n",
       "      <td>0</td>\n",
       "    </tr>\n",
       "    <tr>\n",
       "      <th>21492</th>\n",
       "      <td>71100.0</td>\n",
       "      <td>71700.0</td>\n",
       "      <td>600.0</td>\n",
       "      <td>1.0</td>\n",
       "      <td>6365.532185</td>\n",
       "      <td>0</td>\n",
       "    </tr>\n",
       "    <tr>\n",
       "      <th>21493</th>\n",
       "      <td>70200.0</td>\n",
       "      <td>72000.0</td>\n",
       "      <td>1800.0</td>\n",
       "      <td>1.0</td>\n",
       "      <td>6484.597135</td>\n",
       "      <td>0</td>\n",
       "    </tr>\n",
       "    <tr>\n",
       "      <th>21494</th>\n",
       "      <td>62400.0</td>\n",
       "      <td>62700.0</td>\n",
       "      <td>300.0</td>\n",
       "      <td>1.0</td>\n",
       "      <td>2418.677324</td>\n",
       "      <td>0</td>\n",
       "    </tr>\n",
       "    <tr>\n",
       "      <th>21495</th>\n",
       "      <td>72000.0</td>\n",
       "      <td>72120.0</td>\n",
       "      <td>120.0</td>\n",
       "      <td>1.0</td>\n",
       "      <td>806.225775</td>\n",
       "      <td>0</td>\n",
       "    </tr>\n",
       "    <tr>\n",
       "      <th>21496</th>\n",
       "      <td>45000.0</td>\n",
       "      <td>46800.0</td>\n",
       "      <td>1800.0</td>\n",
       "      <td>1.0</td>\n",
       "      <td>7317.103252</td>\n",
       "      <td>0</td>\n",
       "    </tr>\n",
       "    <tr>\n",
       "      <th>21497</th>\n",
       "      <td>63900.0</td>\n",
       "      <td>65400.0</td>\n",
       "      <td>1500.0</td>\n",
       "      <td>1.0</td>\n",
       "      <td>8905.054744</td>\n",
       "      <td>0</td>\n",
       "    </tr>\n",
       "    <tr>\n",
       "      <th>21498</th>\n",
       "      <td>66600.0</td>\n",
       "      <td>68700.0</td>\n",
       "      <td>2100.0</td>\n",
       "      <td>1.0</td>\n",
       "      <td>412.310563</td>\n",
       "      <td>0</td>\n",
       "    </tr>\n",
       "    <tr>\n",
       "      <th>21499</th>\n",
       "      <td>61200.0</td>\n",
       "      <td>65400.0</td>\n",
       "      <td>4200.0</td>\n",
       "      <td>2.0</td>\n",
       "      <td>31196.474160</td>\n",
       "      <td>0</td>\n",
       "    </tr>\n",
       "    <tr>\n",
       "      <th>21500</th>\n",
       "      <td>58500.0</td>\n",
       "      <td>59400.0</td>\n",
       "      <td>900.0</td>\n",
       "      <td>1.0</td>\n",
       "      <td>4045.985665</td>\n",
       "      <td>0</td>\n",
       "    </tr>\n",
       "    <tr>\n",
       "      <th>21501</th>\n",
       "      <td>69300.0</td>\n",
       "      <td>70200.0</td>\n",
       "      <td>900.0</td>\n",
       "      <td>1.0</td>\n",
       "      <td>5385.164807</td>\n",
       "      <td>0</td>\n",
       "    </tr>\n",
       "    <tr>\n",
       "      <th>21502</th>\n",
       "      <td>60900.0</td>\n",
       "      <td>61200.0</td>\n",
       "      <td>300.0</td>\n",
       "      <td>1.0</td>\n",
       "      <td>412.310563</td>\n",
       "      <td>0</td>\n",
       "    </tr>\n",
       "    <tr>\n",
       "      <th>21503</th>\n",
       "      <td>72900.0</td>\n",
       "      <td>73500.0</td>\n",
       "      <td>600.0</td>\n",
       "      <td>2.0</td>\n",
       "      <td>2400.000000</td>\n",
       "      <td>0</td>\n",
       "    </tr>\n",
       "    <tr>\n",
       "      <th>21504</th>\n",
       "      <td>47700.0</td>\n",
       "      <td>49800.0</td>\n",
       "      <td>2100.0</td>\n",
       "      <td>1.0</td>\n",
       "      <td>5685.068161</td>\n",
       "      <td>0</td>\n",
       "    </tr>\n",
       "    <tr>\n",
       "      <th>21505</th>\n",
       "      <td>71100.0</td>\n",
       "      <td>72900.0</td>\n",
       "      <td>1800.0</td>\n",
       "      <td>1.0</td>\n",
       "      <td>18917.980865</td>\n",
       "      <td>0</td>\n",
       "    </tr>\n",
       "    <tr>\n",
       "      <th>21506</th>\n",
       "      <td>54000.0</td>\n",
       "      <td>63000.0</td>\n",
       "      <td>9000.0</td>\n",
       "      <td>2.0</td>\n",
       "      <td>47071.222631</td>\n",
       "      <td>0</td>\n",
       "    </tr>\n",
       "    <tr>\n",
       "      <th>21507</th>\n",
       "      <td>73800.0</td>\n",
       "      <td>74700.0</td>\n",
       "      <td>900.0</td>\n",
       "      <td>1.0</td>\n",
       "      <td>500.000000</td>\n",
       "      <td>0</td>\n",
       "    </tr>\n",
       "    <tr>\n",
       "      <th>21508</th>\n",
       "      <td>64800.0</td>\n",
       "      <td>65700.0</td>\n",
       "      <td>900.0</td>\n",
       "      <td>1.0</td>\n",
       "      <td>447.213595</td>\n",
       "      <td>0</td>\n",
       "    </tr>\n",
       "    <tr>\n",
       "      <th>21509</th>\n",
       "      <td>63000.0</td>\n",
       "      <td>65100.0</td>\n",
       "      <td>2100.0</td>\n",
       "      <td>1.0</td>\n",
       "      <td>4024.922359</td>\n",
       "      <td>0</td>\n",
       "    </tr>\n",
       "    <tr>\n",
       "      <th>21510</th>\n",
       "      <td>73800.0</td>\n",
       "      <td>75600.0</td>\n",
       "      <td>1800.0</td>\n",
       "      <td>1.0</td>\n",
       "      <td>10748.023074</td>\n",
       "      <td>0</td>\n",
       "    </tr>\n",
       "    <tr>\n",
       "      <th>21511</th>\n",
       "      <td>67800.0</td>\n",
       "      <td>72600.0</td>\n",
       "      <td>4800.0</td>\n",
       "      <td>3.0</td>\n",
       "      <td>29138.634148</td>\n",
       "      <td>0</td>\n",
       "    </tr>\n",
       "    <tr>\n",
       "      <th>21512</th>\n",
       "      <td>90000.0</td>\n",
       "      <td>90300.0</td>\n",
       "      <td>300.0</td>\n",
       "      <td>3.0</td>\n",
       "      <td>1600.000000</td>\n",
       "      <td>0</td>\n",
       "    </tr>\n",
       "    <tr>\n",
       "      <th>21513</th>\n",
       "      <td>64500.0</td>\n",
       "      <td>67800.0</td>\n",
       "      <td>3300.0</td>\n",
       "      <td>1.0</td>\n",
       "      <td>16737.084573</td>\n",
       "      <td>0</td>\n",
       "    </tr>\n",
       "    <tr>\n",
       "      <th>21514</th>\n",
       "      <td>61800.0</td>\n",
       "      <td>63000.0</td>\n",
       "      <td>1200.0</td>\n",
       "      <td>1.0</td>\n",
       "      <td>2195.449840</td>\n",
       "      <td>0</td>\n",
       "    </tr>\n",
       "    <tr>\n",
       "      <th>21515</th>\n",
       "      <td>62400.0</td>\n",
       "      <td>68280.0</td>\n",
       "      <td>5880.0</td>\n",
       "      <td>2.0</td>\n",
       "      <td>48206.327386</td>\n",
       "      <td>0</td>\n",
       "    </tr>\n",
       "    <tr>\n",
       "      <th>21516</th>\n",
       "      <td>63900.0</td>\n",
       "      <td>69000.0</td>\n",
       "      <td>5100.0</td>\n",
       "      <td>2.0</td>\n",
       "      <td>36748.469356</td>\n",
       "      <td>0</td>\n",
       "    </tr>\n",
       "    <tr>\n",
       "      <th>21517</th>\n",
       "      <td>79500.0</td>\n",
       "      <td>82500.0</td>\n",
       "      <td>3000.0</td>\n",
       "      <td>2.0</td>\n",
       "      <td>36531.219525</td>\n",
       "      <td>0</td>\n",
       "    </tr>\n",
       "    <tr>\n",
       "      <th>21518</th>\n",
       "      <td>84600.0</td>\n",
       "      <td>86400.0</td>\n",
       "      <td>1800.0</td>\n",
       "      <td>1.0</td>\n",
       "      <td>5825.804665</td>\n",
       "      <td>0</td>\n",
       "    </tr>\n",
       "  </tbody>\n",
       "</table>\n",
       "<p>21519 rows × 6 columns</p>\n",
       "</div>"
      ],
      "text/plain": [
       "            Ot       Dt   DUREE  NBTRAJTC          dist  parking\n",
       "0      18300.0  19800.0  1500.0       1.0  20362.956563        1\n",
       "1      34200.0  35340.0  1140.0       1.0   1941.648784        1\n",
       "2      36000.0  37800.0  1800.0       2.0  23648.467181        1\n",
       "3      27000.0  31800.0  4800.0       3.0  35474.638828        1\n",
       "4      27000.0  32400.0  5400.0       3.0  35713.582850        1\n",
       "...        ...      ...     ...       ...           ...      ...\n",
       "21514  61800.0  63000.0  1200.0       1.0   2195.449840        0\n",
       "21515  62400.0  68280.0  5880.0       2.0  48206.327386        0\n",
       "21516  63900.0  69000.0  5100.0       2.0  36748.469356        0\n",
       "21517  79500.0  82500.0  3000.0       2.0  36531.219525        0\n",
       "21518  84600.0  86400.0  1800.0       1.0   5825.804665        0\n",
       "\n",
       "[21519 rows x 6 columns]"
      ]
     },
     "execution_count": 4,
     "metadata": {},
     "output_type": "execute_result"
    }
   ],
   "source": [
    "Data_Train=pd.concat([data1_true,data2_true,data1_false,data2_false],ignore_index=True)\n",
    "Data_Train"
   ]
  },
  {
   "cell_type": "markdown",
   "metadata": {},
   "source": [
    "# XGBoost"
   ]
  },
  {
   "cell_type": "code",
   "execution_count": 5,
   "metadata": {},
   "outputs": [],
   "source": [
    "import pandas as pd \n",
    "import matplotlib.pyplot as plt \n",
    "import numpy as np \n",
    "import xgboost as xgb\n",
    "from sklearn.model_selection import train_test_split\n",
    "from sklearn.metrics import confusion_matrix, roc_curve, roc_auc_score, f1_score, precision_recall_curve\n",
    "from sklearn.model_selection import GridSearchCV\n",
    "import itertools\n",
    "\n",
    "def plot_confusion_matrix(cm, classes,\n",
    "                          normalize=False,\n",
    "                          title='Confusion matrix',\n",
    "                          cmap=plt.cm.Blues):\n",
    "    \"\"\"\n",
    "    This function prints and plots the confusion matrix.\n",
    "    Normalization can be applied by setting `normalize=True`.\n",
    "    \"\"\"\n",
    "    plt.imshow(cm, interpolation='nearest', cmap=cmap)\n",
    "    plt.title(title)\n",
    "    plt.colorbar()\n",
    "    tick_marks = np.arange(len(classes))\n",
    "    plt.xticks(tick_marks, classes, rotation=45)\n",
    "    plt.yticks(tick_marks, classes)\n",
    "\n",
    "    if normalize:\n",
    "        cm = cm.astype('float') / cm.sum(axis=1)[:, np.newaxis]\n",
    "    thresh = cm.max() / 2.\n",
    "    for i, j in itertools.product(range(cm.shape[0]), range(cm.shape[1])):\n",
    "        plt.text(j, i, cm[i, j],\n",
    "                 horizontalalignment=\"center\",\n",
    "                 color=\"white\" if cm[i, j] > thresh else \"black\")\n",
    "\n",
    "    plt.tight_layout()\n",
    "    plt.ylabel('True label')\n",
    "    plt.xlabel('Predicted label')\n",
    "    plt.show()\n",
    "\n",
    "def show_data(cm, print_res = 0):\n",
    "    tp = cm[1,1]\n",
    "    fn = cm[1,0]\n",
    "    fp = cm[0,1]\n",
    "    tn = cm[0,0]\n",
    "    if print_res == 1:\n",
    "        print('Precision =     {:.3f}'.format(tp/(tp+fp)))\n",
    "        print('Recall (TPR) =  {:.3f}'.format(tp/(tp+fn)))\n",
    "        print('Fallout (FPR) = {:.3e}'.format(fp/(fp+tn)))\n",
    "    return tp/(tp+fp), tp/(tp+fn), fp/(fp+tn)"
   ]
  },
  {
   "cell_type": "code",
   "execution_count": 6,
   "metadata": {},
   "outputs": [],
   "source": [
    "X = Data_Train.drop('parking', axis=1)\n",
    "y = Data_Train['parking']"
   ]
  },
  {
   "cell_type": "code",
   "execution_count": 7,
   "metadata": {},
   "outputs": [
    {
     "data": {
      "text/plain": [
       "array([[-1.5958114 , -1.66829122, -0.57514726, -0.89708632,  0.93431633],\n",
       "       [-0.77721666, -0.86264201, -0.75408122, -0.89708632, -0.61836558],\n",
       "       [-0.68454556, -0.73510681, -0.42603562,  0.23129809,  1.21124307],\n",
       "       ...,\n",
       "       [ 0.75185653,  0.88241283,  1.21419238,  0.23129809,  2.31540661],\n",
       "       [ 1.55500608,  1.58230113,  0.17041092,  0.23129809,  2.29709521],\n",
       "       [ 1.81757421,  1.78449109, -0.42603562, -0.89708632, -0.29098065]])"
      ]
     },
     "execution_count": 7,
     "metadata": {},
     "output_type": "execute_result"
    }
   ],
   "source": [
    "from sklearn.preprocessing import StandardScaler\n",
    "scaler = StandardScaler()\n",
    "X = scaler.fit_transform(X)\n",
    "X"
   ]
  },
  {
   "cell_type": "code",
   "execution_count": 8,
   "metadata": {
    "scrolled": true
   },
   "outputs": [
    {
     "data": {
      "text/plain": [
       "0        1\n",
       "1        1\n",
       "2        1\n",
       "3        1\n",
       "4        1\n",
       "        ..\n",
       "21514    0\n",
       "21515    0\n",
       "21516    0\n",
       "21517    0\n",
       "21518    0\n",
       "Name: parking, Length: 21519, dtype: int64"
      ]
     },
     "execution_count": 8,
     "metadata": {},
     "output_type": "execute_result"
    }
   ],
   "source": [
    "y"
   ]
  },
  {
   "cell_type": "markdown",
   "metadata": {},
   "source": [
    "# Part1"
   ]
  },
  {
   "cell_type": "code",
   "execution_count": 9,
   "metadata": {},
   "outputs": [],
   "source": [
    "X_train, X_test, y_train, y_test = train_test_split(X, y, test_size = 0.2)"
   ]
  },
  {
   "cell_type": "code",
   "execution_count": 10,
   "metadata": {},
   "outputs": [],
   "source": [
    "cv_params = {'max_depth': [1,2,3,4,5,6], 'min_child_weight': [1,2,3,4]}    # parameters to be tries in the grid search\n",
    "fix_params = {'learning_rate': 0.2, 'n_estimators': 100, 'objective': 'binary:logistic'}   #other parameters, fixed for the moment \n",
    "csv = GridSearchCV(xgb.XGBClassifier(**fix_params), cv_params, scoring = 'f1', cv = 5)"
   ]
  },
  {
   "cell_type": "code",
   "execution_count": 11,
   "metadata": {},
   "outputs": [
    {
     "name": "stderr",
     "output_type": "stream",
     "text": [
      "/home/yazi/anaconda3/envs/tf/lib/python3.7/site-packages/sklearn/metrics/classification.py:1437: UndefinedMetricWarning: F-score is ill-defined and being set to 0.0 due to no predicted samples.\n",
      "  'precision', 'predicted', average, warn_for)\n"
     ]
    },
    {
     "data": {
      "text/plain": [
       "GridSearchCV(cv=5, error_score='raise-deprecating',\n",
       "             estimator=XGBClassifier(base_score=0.5, booster='gbtree',\n",
       "                                     colsample_bylevel=1, colsample_bynode=1,\n",
       "                                     colsample_bytree=1, gamma=0,\n",
       "                                     learning_rate=0.2, max_delta_step=0,\n",
       "                                     max_depth=3, min_child_weight=1,\n",
       "                                     missing=None, n_estimators=100, n_jobs=1,\n",
       "                                     nthread=None, objective='binary:logistic',\n",
       "                                     random_state=0, reg_alpha=0, reg_lambda=1,\n",
       "                                     scale_pos_weight=1, seed=None, silent=None,\n",
       "                                     subsample=1, verbosity=1),\n",
       "             iid='warn', n_jobs=None,\n",
       "             param_grid={'max_depth': [1, 2, 3, 4, 5, 6],\n",
       "                         'min_child_weight': [1, 2, 3, 4]},\n",
       "             pre_dispatch='2*n_jobs', refit=True, return_train_score=False,\n",
       "             scoring='f1', verbose=0)"
      ]
     },
     "execution_count": 11,
     "metadata": {},
     "output_type": "execute_result"
    }
   ],
   "source": [
    "csv.fit(X_train, y_train)"
   ]
  },
  {
   "cell_type": "code",
   "execution_count": 12,
   "metadata": {},
   "outputs": [
    {
     "data": {
      "text/plain": [
       "{'max_depth': 6, 'min_child_weight': 2}"
      ]
     },
     "execution_count": 12,
     "metadata": {},
     "output_type": "execute_result"
    }
   ],
   "source": [
    "csv.best_params_"
   ]
  },
  {
   "cell_type": "code",
   "execution_count": 13,
   "metadata": {},
   "outputs": [],
   "source": [
    "cv_params = {'subsample': [0.8,0.9,1], 'max_delta_step': [0,1,2,4]}\n",
    "fix_params = {'learning_rate': 0.2, 'n_estimators': 100, 'objective': 'binary:logistic', 'max_depth': 6, 'min_child_weight':3}"
   ]
  },
  {
   "cell_type": "code",
   "execution_count": 14,
   "metadata": {},
   "outputs": [
    {
     "data": {
      "text/plain": [
       "{'max_delta_step': 0, 'subsample': 0.9}"
      ]
     },
     "execution_count": 14,
     "metadata": {},
     "output_type": "execute_result"
    }
   ],
   "source": [
    "csv = GridSearchCV(xgb.XGBClassifier(**fix_params), cv_params, scoring = 'f1', cv = 5) \n",
    "csv.fit(X_train, y_train)\n",
    "csv.scorer_ \n",
    "csv.best_params_"
   ]
  },
  {
   "cell_type": "code",
   "execution_count": 15,
   "metadata": {
    "scrolled": true
   },
   "outputs": [
    {
     "data": {
      "text/plain": [
       "{'mean_fit_time': array([0.84409404, 0.8215785 , 0.76258574, 0.84901066, 0.8441915 ,\n",
       "        0.79593253, 0.87786198, 0.86048293, 0.80864038, 0.89741797,\n",
       "        0.86769285, 0.82250175]),\n",
       " 'std_fit_time': array([0.01132   , 0.01950478, 0.01445379, 0.00583083, 0.02145005,\n",
       "        0.01385242, 0.00750686, 0.01286719, 0.01662673, 0.01160976,\n",
       "        0.00859247, 0.0114196 ]),\n",
       " 'mean_score_time': array([0.01909366, 0.01911902, 0.01942945, 0.0183383 , 0.018854  ,\n",
       "        0.01826801, 0.01956005, 0.01961713, 0.0194273 , 0.01979313,\n",
       "        0.01914196, 0.01916499]),\n",
       " 'std_score_time': array([0.00046909, 0.00065389, 0.00068834, 0.00010195, 0.00015661,\n",
       "        0.0007456 , 0.00038483, 0.00060643, 0.00085873, 0.00058992,\n",
       "        0.00042343, 0.0007148 ]),\n",
       " 'param_max_delta_step': masked_array(data=[0, 0, 0, 1, 1, 1, 2, 2, 2, 4, 4, 4],\n",
       "              mask=[False, False, False, False, False, False, False, False,\n",
       "                    False, False, False, False],\n",
       "        fill_value='?',\n",
       "             dtype=object),\n",
       " 'param_subsample': masked_array(data=[0.8, 0.9, 1, 0.8, 0.9, 1, 0.8, 0.9, 1, 0.8, 0.9, 1],\n",
       "              mask=[False, False, False, False, False, False, False, False,\n",
       "                    False, False, False, False],\n",
       "        fill_value='?',\n",
       "             dtype=object),\n",
       " 'params': [{'max_delta_step': 0, 'subsample': 0.8},\n",
       "  {'max_delta_step': 0, 'subsample': 0.9},\n",
       "  {'max_delta_step': 0, 'subsample': 1},\n",
       "  {'max_delta_step': 1, 'subsample': 0.8},\n",
       "  {'max_delta_step': 1, 'subsample': 0.9},\n",
       "  {'max_delta_step': 1, 'subsample': 1},\n",
       "  {'max_delta_step': 2, 'subsample': 0.8},\n",
       "  {'max_delta_step': 2, 'subsample': 0.9},\n",
       "  {'max_delta_step': 2, 'subsample': 1},\n",
       "  {'max_delta_step': 4, 'subsample': 0.8},\n",
       "  {'max_delta_step': 4, 'subsample': 0.9},\n",
       "  {'max_delta_step': 4, 'subsample': 1}],\n",
       " 'split0_test_score': array([0.06896552, 0.05      , 0.03092784, 0.06730769, 0.03921569,\n",
       "        0.05128205, 0.06896552, 0.05      , 0.03092784, 0.06896552,\n",
       "        0.05      , 0.03092784]),\n",
       " 'split1_test_score': array([0.07881773, 0.08080808, 0.04210526, 0.07920792, 0.08121827,\n",
       "        0.0625    , 0.07881773, 0.08080808, 0.04210526, 0.07881773,\n",
       "        0.08080808, 0.04210526]),\n",
       " 'split2_test_score': array([0.03864734, 0.06829268, 0.06091371, 0.05741627, 0.05769231,\n",
       "        0.07070707, 0.03864734, 0.06829268, 0.06091371, 0.03864734,\n",
       "        0.06829268, 0.06091371]),\n",
       " 'split3_test_score': array([0.05154639, 0.07070707, 0.05154639, 0.05181347, 0.08      ,\n",
       "        0.05263158, 0.05154639, 0.07070707, 0.05154639, 0.05154639,\n",
       "        0.07070707, 0.05154639]),\n",
       " 'split4_test_score': array([0.04761905, 0.04901961, 0.04926108, 0.04901961, 0.02955665,\n",
       "        0.03030303, 0.04761905, 0.04901961, 0.04926108, 0.04761905,\n",
       "        0.04901961, 0.04926108]),\n",
       " 'mean_test_score': array([0.05712203, 0.06376613, 0.04694924, 0.06095565, 0.05753722,\n",
       "        0.05348654, 0.05712203, 0.06376613, 0.04694924, 0.05712203,\n",
       "        0.06376613, 0.04694924]),\n",
       " 'std_test_score': array([0.01465485, 0.01237839, 0.01001706, 0.01106447, 0.02089914,\n",
       "        0.01356999, 0.01465485, 0.01237839, 0.01001706, 0.01465485,\n",
       "        0.01237839, 0.01001706]),\n",
       " 'rank_test_score': array([ 6,  1, 10,  4,  5,  9,  6,  1, 10,  6,  1, 10], dtype=int32)}"
      ]
     },
     "execution_count": 15,
     "metadata": {},
     "output_type": "execute_result"
    }
   ],
   "source": [
    "csv.cv_results_ "
   ]
  },
  {
   "cell_type": "code",
   "execution_count": 16,
   "metadata": {},
   "outputs": [],
   "source": [
    "cv_params = {'learning_rate': [0.05, 0.1, 0.15, 0.2, 0.25, 0.3]}\n",
    "fix_params['max_delta_step'] = 0\n",
    "fix_params['subsample'] = 0.8"
   ]
  },
  {
   "cell_type": "code",
   "execution_count": 17,
   "metadata": {},
   "outputs": [
    {
     "data": {
      "text/plain": [
       "{'learning_rate': 0.3}"
      ]
     },
     "execution_count": 17,
     "metadata": {},
     "output_type": "execute_result"
    }
   ],
   "source": [
    "csv = GridSearchCV(xgb.XGBClassifier(**fix_params), cv_params, scoring = 'f1', cv = 5) \n",
    "csv.fit(X_train, y_train)\n",
    "csv.best_params_"
   ]
  },
  {
   "cell_type": "code",
   "execution_count": 18,
   "metadata": {},
   "outputs": [
    {
     "name": "stdout",
     "output_type": "stream",
     "text": [
      "{'learning_rate': 0.2, 'n_estimators': 100, 'objective': 'binary:logistic', 'max_depth': 6, 'min_child_weight': 3, 'max_delta_step': 0, 'subsample': 0.8}\n"
     ]
    }
   ],
   "source": [
    "fix_params['learning_rate'] = 0.2\n",
    "params_final =  fix_params\n",
    "print(params_final)"
   ]
  },
  {
   "cell_type": "code",
   "execution_count": 19,
   "metadata": {},
   "outputs": [
    {
     "name": "stderr",
     "output_type": "stream",
     "text": [
      "/home/yazi/anaconda3/envs/tf/lib/python3.7/site-packages/xgboost/core.py:587: FutureWarning: Series.base is deprecated and will be removed in a future version\n",
      "  if getattr(data, 'base', None) is not None and \\\n"
     ]
    }
   ],
   "source": [
    "xgdmat_train = xgb.DMatrix(X_train, y_train)\n",
    "xgdmat_test = xgb.DMatrix(X_test, y_test)\n",
    "xgb_final = xgb.train(params_final, xgdmat_train, num_boost_round = 100)"
   ]
  },
  {
   "cell_type": "code",
   "execution_count": 20,
   "metadata": {},
   "outputs": [
    {
     "data": {
      "image/png": "[encoded data removed]",
      "text/plain": [
       "<Figure size 432x288 with 2 Axes>"
      ]
     },
     "metadata": {
      "needs_background": "light"
     },
     "output_type": "display_data"
    },
    {
     "name": "stdout",
     "output_type": "stream",
     "text": [
      "Precision =     0.168\n",
      "Recall (TPR) =  0.571\n",
      "Fallout (FPR) = 1.564e-01\n"
     ]
    }
   ],
   "source": [
    "y_pred = xgb_final.predict(xgdmat_test)\n",
    "thresh = 0.08\n",
    "y_pred [y_pred > thresh] = 1\n",
    "y_pred [y_pred <= thresh] = 0\n",
    "cm = confusion_matrix(y_test, y_pred)\n",
    "plot_confusion_matrix(cm, ['0', '1'], )\n",
    "pr, tpr, fpr = show_data(cm, print_res = 1);"
   ]
  },
  {
   "cell_type": "markdown",
   "metadata": {},
   "source": [
    "# Part2"
   ]
  },
  {
   "cell_type": "code",
   "execution_count": 21,
   "metadata": {},
   "outputs": [
    {
     "data": {
      "text/plain": [
       "21519"
      ]
     },
     "execution_count": 21,
     "metadata": {},
     "output_type": "execute_result"
    }
   ],
   "source": [
    "len(X)"
   ]
  },
  {
   "cell_type": "code",
   "execution_count": 22,
   "metadata": {},
   "outputs": [],
   "source": [
    "import collections"
   ]
  },
  {
   "cell_type": "code",
   "execution_count": 23,
   "metadata": {},
   "outputs": [
    {
     "data": {
      "text/plain": [
       "Counter({1: 1108, 0: 20411})"
      ]
     },
     "execution_count": 23,
     "metadata": {},
     "output_type": "execute_result"
    }
   ],
   "source": [
    "collections.Counter(y)"
   ]
  },
  {
   "cell_type": "code",
   "execution_count": 24,
   "metadata": {},
   "outputs": [],
   "source": [
    "from imblearn.over_sampling import SMOTE\n",
    "sm=SMOTE(random_state=42)\n",
    "X_res,y_res=sm.fit_resample(X,y)"
   ]
  },
  {
   "cell_type": "code",
   "execution_count": 25,
   "metadata": {},
   "outputs": [
    {
     "data": {
      "text/plain": [
       "Counter({1: 20411, 0: 20411})"
      ]
     },
     "execution_count": 25,
     "metadata": {},
     "output_type": "execute_result"
    }
   ],
   "source": [
    "collections.Counter(y_res)"
   ]
  },
  {
   "cell_type": "code",
   "execution_count": 26,
   "metadata": {},
   "outputs": [],
   "source": [
    "X_train, X_test, y_train, y_test = train_test_split(X_res, y_res, test_size = 0.2)"
   ]
  },
  {
   "cell_type": "code",
   "execution_count": 27,
   "metadata": {},
   "outputs": [],
   "source": [
    "cv_params = {'max_depth': [1,2,3,4,5,6], 'min_child_weight': [1,2,3,4]}    # parameters to be tries in the grid search\n",
    "fix_params = {'learning_rate': 0.2, 'n_estimators': 100, 'objective': 'binary:logistic'}   #other parameters, fixed for the moment \n",
    "csv = GridSearchCV(xgb.XGBClassifier(**fix_params), cv_params, scoring = 'f1', cv = 5)"
   ]
  },
  {
   "cell_type": "code",
   "execution_count": 28,
   "metadata": {},
   "outputs": [
    {
     "data": {
      "text/plain": [
       "GridSearchCV(cv=5, error_score='raise-deprecating',\n",
       "             estimator=XGBClassifier(base_score=0.5, booster='gbtree',\n",
       "                                     colsample_bylevel=1, colsample_bynode=1,\n",
       "                                     colsample_bytree=1, gamma=0,\n",
       "                                     learning_rate=0.2, max_delta_step=0,\n",
       "                                     max_depth=3, min_child_weight=1,\n",
       "                                     missing=None, n_estimators=100, n_jobs=1,\n",
       "                                     nthread=None, objective='binary:logistic',\n",
       "                                     random_state=0, reg_alpha=0, reg_lambda=1,\n",
       "                                     scale_pos_weight=1, seed=None, silent=None,\n",
       "                                     subsample=1, verbosity=1),\n",
       "             iid='warn', n_jobs=None,\n",
       "             param_grid={'max_depth': [1, 2, 3, 4, 5, 6],\n",
       "                         'min_child_weight': [1, 2, 3, 4]},\n",
       "             pre_dispatch='2*n_jobs', refit=True, return_train_score=False,\n",
       "             scoring='f1', verbose=0)"
      ]
     },
     "execution_count": 28,
     "metadata": {},
     "output_type": "execute_result"
    }
   ],
   "source": [
    "csv.fit(X_train, y_train)"
   ]
  },
  {
   "cell_type": "code",
   "execution_count": 29,
   "metadata": {},
   "outputs": [
    {
     "data": {
      "text/plain": [
       "{'max_depth': 6, 'min_child_weight': 3}"
      ]
     },
     "execution_count": 29,
     "metadata": {},
     "output_type": "execute_result"
    }
   ],
   "source": [
    "csv.best_params_"
   ]
  },
  {
   "cell_type": "code",
   "execution_count": 30,
   "metadata": {},
   "outputs": [],
   "source": [
    "cv_params = {'subsample': [0.8,0.9,1], 'max_delta_step': [0,1,2,4]}\n",
    "fix_params = {'learning_rate': 0.2, 'n_estimators': 100, 'objective': 'binary:logistic', 'max_depth': 6, 'min_child_weight':2}"
   ]
  },
  {
   "cell_type": "code",
   "execution_count": 31,
   "metadata": {},
   "outputs": [
    {
     "data": {
      "text/plain": [
       "{'max_delta_step': 2, 'subsample': 1}"
      ]
     },
     "execution_count": 31,
     "metadata": {},
     "output_type": "execute_result"
    }
   ],
   "source": [
    "csv = GridSearchCV(xgb.XGBClassifier(**fix_params), cv_params, scoring = 'f1', cv = 5) \n",
    "csv.fit(X_train, y_train)\n",
    "csv.best_params_"
   ]
  },
  {
   "cell_type": "code",
   "execution_count": 32,
   "metadata": {},
   "outputs": [],
   "source": [
    "cv_params = {'learning_rate': [0.05, 0.1, 0.15, 0.2, 0.25, 0.3]}\n",
    "fix_params['max_delta_step'] = 0\n",
    "fix_params['subsample'] = 0.9"
   ]
  },
  {
   "cell_type": "code",
   "execution_count": 33,
   "metadata": {},
   "outputs": [
    {
     "data": {
      "text/plain": [
       "{'learning_rate': 0.3}"
      ]
     },
     "execution_count": 33,
     "metadata": {},
     "output_type": "execute_result"
    }
   ],
   "source": [
    "csv = GridSearchCV(xgb.XGBClassifier(**fix_params), cv_params, scoring = 'f1', cv = 5) \n",
    "csv.fit(X_train, y_train)\n",
    "csv.best_params_"
   ]
  },
  {
   "cell_type": "code",
   "execution_count": 34,
   "metadata": {},
   "outputs": [
    {
     "name": "stdout",
     "output_type": "stream",
     "text": [
      "{'learning_rate': 0.25, 'n_estimators': 100, 'objective': 'binary:logistic', 'max_depth': 6, 'min_child_weight': 2, 'max_delta_step': 0, 'subsample': 0.9}\n"
     ]
    }
   ],
   "source": [
    "fix_params['learning_rate'] = 0.25\n",
    "params_final =  fix_params\n",
    "print(params_final)"
   ]
  },
  {
   "cell_type": "code",
   "execution_count": 35,
   "metadata": {},
   "outputs": [],
   "source": [
    "xgdmat_train = xgb.DMatrix(X_train, y_train)\n",
    "xgdmat_test = xgb.DMatrix(X_test, y_test)\n",
    "xgb_final = xgb.train(params_final, xgdmat_train, num_boost_round = 100)"
   ]
  },
  {
   "cell_type": "code",
   "execution_count": 62,
   "metadata": {},
   "outputs": [
    {
     "name": "stdout",
     "output_type": "stream",
     "text": [
      "{'learning_rate': 0.25, 'n_estimators': 100, 'objective': 'binary:logistic', 'max_depth': 6, 'min_child_weight': 2, 'max_delta_step': 0, 'subsample': 0.9}\n"
     ]
    }
   ],
   "source": [
    "print(params_final)"
   ]
  },
  {
   "cell_type": "code",
   "execution_count": 63,
   "metadata": {},
   "outputs": [
    {
     "data": {
      "image/png": "[encoded data removed]",
      "text/plain": [
       "<Figure size 432x288 with 2 Axes>"
      ]
     },
     "metadata": {
      "needs_background": "light"
     },
     "output_type": "display_data"
    },
    {
     "name": "stdout",
     "output_type": "stream",
     "text": [
      "Precision =     0.974\n",
      "Recall (TPR) =  0.851\n",
      "Fallout (FPR) = 2.295e-02\n"
     ]
    }
   ],
   "source": [
    "y_pred = xgb_final.predict(xgdmat_test)\n",
    "thresh = 0.7\n",
    "y_pred [y_pred > thresh] = 1\n",
    "y_pred [y_pred <= thresh] = 0\n",
    "cm = confusion_matrix(y_test, y_pred)\n",
    "plot_confusion_matrix(cm, ['0', '1'], )\n",
    "pr, tpr, fpr = show_data(cm, print_res = 1);"
   ]
  },
  {
   "cell_type": "code",
   "execution_count": 64,
   "metadata": {},
   "outputs": [],
   "source": [
    "from sklearn.metrics import classification_report, confusion_matrix\n",
    "def show_result(y_test,y_pred):\n",
    "    y_test=np.squeeze(y_test)\n",
    "    y_pred=np.squeeze(y_pred)\n",
    "    print(confusion_matrix(y_test, y_pred))\n",
    "    print(classification_report(y_test, y_pred))"
   ]
  },
  {
   "cell_type": "code",
   "execution_count": 65,
   "metadata": {},
   "outputs": [
    {
     "data": {
      "text/plain": [
       "array([0., 0., 1., ..., 1., 0., 0.], dtype=float32)"
      ]
     },
     "execution_count": 65,
     "metadata": {},
     "output_type": "execute_result"
    }
   ],
   "source": [
    "y_pred"
   ]
  },
  {
   "cell_type": "code",
   "execution_count": 66,
   "metadata": {},
   "outputs": [
    {
     "data": {
      "text/plain": [
       "array([0, 0, 1, ..., 1, 0, 0])"
      ]
     },
     "execution_count": 66,
     "metadata": {},
     "output_type": "execute_result"
    }
   ],
   "source": [
    "y_test"
   ]
  },
  {
   "cell_type": "code",
   "execution_count": 67,
   "metadata": {},
   "outputs": [
    {
     "name": "stdout",
     "output_type": "stream",
     "text": [
      "[[3960   93]\n",
      " [ 612 3500]]\n",
      "              precision    recall  f1-score   support\n",
      "\n",
      "           0       0.87      0.98      0.92      4053\n",
      "           1       0.97      0.85      0.91      4112\n",
      "\n",
      "    accuracy                           0.91      8165\n",
      "   macro avg       0.92      0.91      0.91      8165\n",
      "weighted avg       0.92      0.91      0.91      8165\n",
      "\n"
     ]
    }
   ],
   "source": [
    "show_result(y_test,y_pred)"
   ]
  },
  {
   "cell_type": "markdown",
   "metadata": {},
   "source": [
    "# test normal sample"
   ]
  },
  {
   "cell_type": "code",
   "execution_count": 37,
   "metadata": {},
   "outputs": [],
   "source": [
    "X0_test = xgb.DMatrix(X)"
   ]
  },
  {
   "cell_type": "code",
   "execution_count": 38,
   "metadata": {},
   "outputs": [
    {
     "data": {
      "image/png": "[encoded data removed]",
      "text/plain": [
       "<Figure size 432x288 with 2 Axes>"
      ]
     },
     "metadata": {
      "needs_background": "light"
     },
     "output_type": "display_data"
    },
    {
     "name": "stdout",
     "output_type": "stream",
     "text": [
      "Precision =     0.330\n",
      "Recall (TPR) =  0.212\n",
      "Fallout (FPR) = 2.342e-02\n"
     ]
    }
   ],
   "source": [
    "y_pred = xgb_final.predict(X0_test)\n",
    "thresh = 0.65\n",
    "y_pred [y_pred > thresh] = 1\n",
    "y_pred [y_pred <= thresh] = 0\n",
    "cm = confusion_matrix(y, y_pred)\n",
    "plot_confusion_matrix(cm, ['0', '1'], )\n",
    "pr, tpr, fpr = show_data(cm, print_res = 1);"
   ]
  },
  {
   "cell_type": "markdown",
   "metadata": {},
   "source": [
    "# Prediction on AFC"
   ]
  },
  {
   "cell_type": "code",
   "execution_count": 51,
   "metadata": {},
   "outputs": [
    {
     "data": {
      "text/plain": [
       "array([[-1.10165604, -1.21512452, -0.17738113,  0.85520398, -0.11471561],\n",
       "       [-0.12573111,  1.1976657 ,  2.8932032 ,  3.28815296,  0.73442831],\n",
       "       [-1.09977777,  0.47995172,  3.51393893,  0.85520398, -0.38551987],\n",
       "       ...,\n",
       "       [ 0.7737926 ,  0.67654986, -0.26117054,  0.24696674,  2.43363096],\n",
       "       [ 0.78528316,  0.68837531, -0.26117054,  0.24696674,  2.43363096],\n",
       "       [ 0.74142013,  0.64323392, -0.26117054,  0.24696674,  2.43363096]])"
      ]
     },
     "execution_count": 51,
     "metadata": {},
     "output_type": "execute_result"
    }
   ],
   "source": [
    "scaler = StandardScaler()\n",
    "X0 = scaler.fit_transform(file)\n",
    "X0"
   ]
  },
  {
   "cell_type": "code",
   "execution_count": 52,
   "metadata": {},
   "outputs": [
    {
     "name": "stdout",
     "output_type": "stream",
     "text": [
      "Help on Booster in module xgboost.core object:\n",
      "\n",
      "class Booster(builtins.object)\n",
      " |  Booster(params=None, cache=(), model_file=None)\n",
      " |  \n",
      " |  A Booster of XGBoost.\n",
      " |  \n",
      " |  Booster is the model of xgboost, that contains low level routines for\n",
      " |  training, prediction and evaluation.\n",
      " |  \n",
      " |  Methods defined here:\n",
      " |  \n",
      " |  __copy__(self)\n",
      " |  \n",
      " |  __deepcopy__(self, _)\n",
      " |  \n",
      " |  __del__(self)\n",
      " |  \n",
      " |  __getstate__(self)\n",
      " |  \n",
      " |  __init__(self, params=None, cache=(), model_file=None)\n",
      " |      Parameters\n",
      " |      ----------\n",
      " |      params : dict\n",
      " |          Parameters for boosters.\n",
      " |      cache : list\n",
      " |          List of cache items.\n",
      " |      model_file : string\n",
      " |          Path to the model file.\n",
      " |  \n",
      " |  __setstate__(self, state)\n",
      " |  \n",
      " |  attr(self, key)\n",
      " |      Get attribute string from the Booster.\n",
      " |      \n",
      " |      Parameters\n",
      " |      ----------\n",
      " |      key : str\n",
      " |          The key to get attribute from.\n",
      " |      \n",
      " |      Returns\n",
      " |      -------\n",
      " |      value : str\n",
      " |          The attribute value of the key, returns None if attribute do not exist.\n",
      " |  \n",
      " |  attributes(self)\n",
      " |      Get attributes stored in the Booster as a dictionary.\n",
      " |      \n",
      " |      Returns\n",
      " |      -------\n",
      " |      result : dictionary of  attribute_name: attribute_value pairs of strings.\n",
      " |          Returns an empty dict if there's no attributes.\n",
      " |  \n",
      " |  boost(self, dtrain, grad, hess)\n",
      " |      Boost the booster for one iteration, with customized gradient\n",
      " |      statistics.  Like :func:`xgboost.core.Booster.update`, this\n",
      " |      function should not be called directly by users.\n",
      " |      \n",
      " |      Parameters\n",
      " |      ----------\n",
      " |      dtrain : DMatrix\n",
      " |          The training DMatrix.\n",
      " |      grad : list\n",
      " |          The first order of gradient.\n",
      " |      hess : list\n",
      " |          The second order of gradient.\n",
      " |  \n",
      " |  copy(self)\n",
      " |      Copy the booster object.\n",
      " |      \n",
      " |      Returns\n",
      " |      -------\n",
      " |      booster: `Booster`\n",
      " |          a copied booster model\n",
      " |  \n",
      " |  dump_model(self, fout, fmap='', with_stats=False, dump_format='text')\n",
      " |      Dump model into a text or JSON file.\n",
      " |      \n",
      " |      Parameters\n",
      " |      ----------\n",
      " |      fout : string\n",
      " |          Output file name.\n",
      " |      fmap : string, optional\n",
      " |          Name of the file containing feature map names.\n",
      " |      with_stats : bool, optional\n",
      " |          Controls whether the split statistics are output.\n",
      " |      dump_format : string, optional\n",
      " |          Format of model dump file. Can be 'text' or 'json'.\n",
      " |  \n",
      " |  eval(self, data, name='eval', iteration=0)\n",
      " |      Evaluate the model on mat.\n",
      " |      \n",
      " |      Parameters\n",
      " |      ----------\n",
      " |      data : DMatrix\n",
      " |          The dmatrix storing the input.\n",
      " |      \n",
      " |      name : str, optional\n",
      " |          The name of the dataset.\n",
      " |      \n",
      " |      iteration : int, optional\n",
      " |          The current iteration number.\n",
      " |      \n",
      " |      Returns\n",
      " |      -------\n",
      " |      result: str\n",
      " |          Evaluation result string.\n",
      " |  \n",
      " |  eval_set(self, evals, iteration=0, feval=None)\n",
      " |      Evaluate a set of data.\n",
      " |      \n",
      " |      Parameters\n",
      " |      ----------\n",
      " |      evals : list of tuples (DMatrix, string)\n",
      " |          List of items to be evaluated.\n",
      " |      iteration : int\n",
      " |          Current iteration.\n",
      " |      feval : function\n",
      " |          Custom evaluation function.\n",
      " |      \n",
      " |      Returns\n",
      " |      -------\n",
      " |      result: str\n",
      " |          Evaluation result string.\n",
      " |  \n",
      " |  get_dump(self, fmap='', with_stats=False, dump_format='text')\n",
      " |      Returns the model dump as a list of strings.\n",
      " |      \n",
      " |      Parameters\n",
      " |      ----------\n",
      " |      fmap : string, optional\n",
      " |          Name of the file containing feature map names.\n",
      " |      with_stats : bool, optional\n",
      " |          Controls whether the split statistics are output.\n",
      " |      dump_format : string, optional\n",
      " |          Format of model dump. Can be 'text' or 'json'.\n",
      " |  \n",
      " |  get_fscore(self, fmap='')\n",
      " |      Get feature importance of each feature.\n",
      " |      \n",
      " |      .. note:: Feature importance is defined only for tree boosters\n",
      " |      \n",
      " |          Feature importance is only defined when the decision tree model is chosen as base\n",
      " |          learner (`booster=gbtree`). It is not defined for other base learner types, such\n",
      " |          as linear learners (`booster=gblinear`).\n",
      " |      \n",
      " |      .. note:: Zero-importance features will not be included\n",
      " |      \n",
      " |         Keep in mind that this function does not include zero-importance feature, i.e.\n",
      " |         those features that have not been used in any split conditions.\n",
      " |      \n",
      " |      Parameters\n",
      " |      ----------\n",
      " |      fmap: str (optional)\n",
      " |         The name of feature map file\n",
      " |  \n",
      " |  get_score(self, fmap='', importance_type='weight')\n",
      " |      Get feature importance of each feature.\n",
      " |      Importance type can be defined as:\n",
      " |      \n",
      " |      * 'weight': the number of times a feature is used to split the data across all trees.\n",
      " |      * 'gain': the average gain across all splits the feature is used in.\n",
      " |      * 'cover': the average coverage across all splits the feature is used in.\n",
      " |      * 'total_gain': the total gain across all splits the feature is used in.\n",
      " |      * 'total_cover': the total coverage across all splits the feature is used in.\n",
      " |      \n",
      " |      .. note:: Feature importance is defined only for tree boosters\n",
      " |      \n",
      " |          Feature importance is only defined when the decision tree model is chosen as base\n",
      " |          learner (`booster=gbtree`). It is not defined for other base learner types, such\n",
      " |          as linear learners (`booster=gblinear`).\n",
      " |      \n",
      " |      Parameters\n",
      " |      ----------\n",
      " |      fmap: str (optional)\n",
      " |         The name of feature map file.\n",
      " |      importance_type: str, default 'weight'\n",
      " |          One of the importance types defined above.\n",
      " |  \n",
      " |  get_split_value_histogram(self, feature, fmap='', bins=None, as_pandas=True)\n",
      " |      Get split value histogram of a feature\n",
      " |      \n",
      " |      Parameters\n",
      " |      ----------\n",
      " |      feature: str\n",
      " |          The name of the feature.\n",
      " |      fmap: str (optional)\n",
      " |          The name of feature map file.\n",
      " |      bin: int, default None\n",
      " |          The maximum number of bins.\n",
      " |          Number of bins equals number of unique split values n_unique,\n",
      " |          if bins == None or bins > n_unique.\n",
      " |      as_pandas: bool, default True\n",
      " |          Return pd.DataFrame when pandas is installed.\n",
      " |          If False or pandas is not installed, return numpy ndarray.\n",
      " |      \n",
      " |      Returns\n",
      " |      -------\n",
      " |      a histogram of used splitting values for the specified feature\n",
      " |      either as numpy array or pandas DataFrame.\n",
      " |  \n",
      " |  load_model(self, fname)\n",
      " |      Load the model from a file.\n",
      " |      \n",
      " |      The model is loaded from an XGBoost internal binary format which is\n",
      " |      universal among the various XGBoost interfaces. Auxiliary attributes of\n",
      " |      the Python Booster object (such as feature_names) will not be loaded.\n",
      " |      To preserve all attributes, pickle the Booster object.\n",
      " |      \n",
      " |      Parameters\n",
      " |      ----------\n",
      " |      fname : string or a memory buffer\n",
      " |          Input file name or memory buffer(see also save_raw)\n",
      " |  \n",
      " |  load_rabit_checkpoint(self)\n",
      " |      Initialize the model by load from rabit checkpoint.\n",
      " |      \n",
      " |      Returns\n",
      " |      -------\n",
      " |      version: integer\n",
      " |          The version number of the model.\n",
      " |  \n",
      " |  predict(self, data, output_margin=False, ntree_limit=0, pred_leaf=False, pred_contribs=False, approx_contribs=False, pred_interactions=False, validate_features=True)\n",
      " |      Predict with data.\n",
      " |      \n",
      " |      .. note:: This function is not thread safe.\n",
      " |      \n",
      " |        For each booster object, predict can only be called from one thread.\n",
      " |        If you want to run prediction using multiple thread, call ``bst.copy()`` to make copies\n",
      " |        of model object and then call ``predict()``.\n",
      " |      \n",
      " |      .. note:: Using ``predict()`` with DART booster\n",
      " |      \n",
      " |        If the booster object is DART type, ``predict()`` will perform dropouts, i.e. only\n",
      " |        some of the trees will be evaluated. This will produce incorrect results if ``data`` is\n",
      " |        not the training data. To obtain correct results on test sets, set ``ntree_limit`` to\n",
      " |        a nonzero value, e.g.\n",
      " |      \n",
      " |        .. code-block:: python\n",
      " |      \n",
      " |          preds = bst.predict(dtest, ntree_limit=num_round)\n",
      " |      \n",
      " |      Parameters\n",
      " |      ----------\n",
      " |      data : DMatrix\n",
      " |          The dmatrix storing the input.\n",
      " |      \n",
      " |      output_margin : bool\n",
      " |          Whether to output the raw untransformed margin value.\n",
      " |      \n",
      " |      ntree_limit : int\n",
      " |          Limit number of trees in the prediction; defaults to 0 (use all trees).\n",
      " |      \n",
      " |      pred_leaf : bool\n",
      " |          When this option is on, the output will be a matrix of (nsample, ntrees)\n",
      " |          with each record indicating the predicted leaf index of each sample in each tree.\n",
      " |          Note that the leaf index of a tree is unique per tree, so you may find leaf 1\n",
      " |          in both tree 1 and tree 0.\n",
      " |      \n",
      " |      pred_contribs : bool\n",
      " |          When this is True the output will be a matrix of size (nsample, nfeats + 1)\n",
      " |          with each record indicating the feature contributions (SHAP values) for that\n",
      " |          prediction. The sum of all feature contributions is equal to the raw untransformed\n",
      " |          margin value of the prediction. Note the final column is the bias term.\n",
      " |      \n",
      " |      approx_contribs : bool\n",
      " |          Approximate the contributions of each feature\n",
      " |      \n",
      " |      pred_interactions : bool\n",
      " |          When this is True the output will be a matrix of size (nsample, nfeats + 1, nfeats + 1)\n",
      " |          indicating the SHAP interaction values for each pair of features. The sum of each\n",
      " |          row (or column) of the interaction values equals the corresponding SHAP value (from\n",
      " |          pred_contribs), and the sum of the entire matrix equals the raw untransformed margin\n",
      " |          value of the prediction. Note the last row and column correspond to the bias term.\n",
      " |      \n",
      " |      validate_features : bool\n",
      " |          When this is True, validate that the Booster's and data's feature_names are identical.\n",
      " |          Otherwise, it is assumed that the feature_names are the same.\n",
      " |      \n",
      " |      Returns\n",
      " |      -------\n",
      " |      prediction : numpy array\n",
      " |  \n",
      " |  save_model(self, fname)\n",
      " |      Save the model to a file.\n",
      " |      \n",
      " |      The model is saved in an XGBoost internal binary format which is\n",
      " |      universal among the various XGBoost interfaces. Auxiliary attributes of\n",
      " |      the Python Booster object (such as feature_names) will not be saved.\n",
      " |      To preserve all attributes, pickle the Booster object.\n",
      " |      \n",
      " |      Parameters\n",
      " |      ----------\n",
      " |      fname : string\n",
      " |          Output file name\n",
      " |  \n",
      " |  save_rabit_checkpoint(self)\n",
      " |      Save the current booster to rabit checkpoint.\n",
      " |  \n",
      " |  save_raw(self)\n",
      " |      Save the model to a in memory buffer representation\n",
      " |      \n",
      " |      Returns\n",
      " |      -------\n",
      " |      a in memory buffer representation of the model\n",
      " |  \n",
      " |  set_attr(self, **kwargs)\n",
      " |      Set the attribute of the Booster.\n",
      " |      \n",
      " |      Parameters\n",
      " |      ----------\n",
      " |      **kwargs\n",
      " |          The attributes to set. Setting a value to None deletes an attribute.\n",
      " |  \n",
      " |  set_param(self, params, value=None)\n",
      " |      Set parameters into the Booster.\n",
      " |      \n",
      " |      Parameters\n",
      " |      ----------\n",
      " |      params: dict/list/str\n",
      " |         list of key,value pairs, dict of key to value or simply str key\n",
      " |      value: optional\n",
      " |         value of the specified parameter, when params is str key\n",
      " |  \n",
      " |  trees_to_dataframe(self, fmap='')\n",
      " |      Parse a boosted tree model text dump into a pandas DataFrame structure.\n",
      " |      \n",
      " |      This feature is only defined when the decision tree model is chosen as base\n",
      " |      learner (`booster in {gbtree, dart}`). It is not defined for other base learner\n",
      " |      types, such as linear learners (`booster=gblinear`).\n",
      " |      \n",
      " |      Parameters\n",
      " |      ----------\n",
      " |      fmap: str (optional)\n",
      " |         The name of feature map file.\n",
      " |  \n",
      " |  update(self, dtrain, iteration, fobj=None)\n",
      " |      Update for one iteration, with objective function calculated\n",
      " |      internally.  This function should not be called directly by users.\n",
      " |      \n",
      " |      Parameters\n",
      " |      ----------\n",
      " |      dtrain : DMatrix\n",
      " |          Training data.\n",
      " |      iteration : int\n",
      " |          Current iteration number.\n",
      " |      fobj : function\n",
      " |          Customized objective function.\n",
      " |  \n",
      " |  ----------------------------------------------------------------------\n",
      " |  Data descriptors defined here:\n",
      " |  \n",
      " |  __dict__\n",
      " |      dictionary for instance variables (if defined)\n",
      " |  \n",
      " |  __weakref__\n",
      " |      list of weak references to the object (if defined)\n",
      " |  \n",
      " |  ----------------------------------------------------------------------\n",
      " |  Data and other attributes defined here:\n",
      " |  \n",
      " |  feature_names = None\n",
      "\n"
     ]
    }
   ],
   "source": [
    "help(xgb_final)"
   ]
  },
  {
   "cell_type": "code",
   "execution_count": 53,
   "metadata": {},
   "outputs": [],
   "source": [
    "X0_final = xgb.DMatrix(X0)"
   ]
  },
  {
   "cell_type": "code",
   "execution_count": 54,
   "metadata": {},
   "outputs": [
    {
     "data": {
      "text/plain": [
       "<xgboost.core.DMatrix at 0x7f853f863f28>"
      ]
     },
     "execution_count": 54,
     "metadata": {},
     "output_type": "execute_result"
    }
   ],
   "source": [
    "X0_final"
   ]
  },
  {
   "cell_type": "code",
   "execution_count": 55,
   "metadata": {},
   "outputs": [],
   "source": [
    "y_pred = xgb_final.predict(X0_final)"
   ]
  },
  {
   "cell_type": "code",
   "execution_count": 56,
   "metadata": {},
   "outputs": [
    {
     "data": {
      "text/plain": [
       "array([0.6610329 , 0.38929743, 0.20856874, ..., 0.8410979 , 0.8427293 ,\n",
       "       0.5514846 ], dtype=float32)"
      ]
     },
     "execution_count": 56,
     "metadata": {},
     "output_type": "execute_result"
    }
   ],
   "source": [
    "y_pred"
   ]
  },
  {
   "cell_type": "code",
   "execution_count": 57,
   "metadata": {},
   "outputs": [],
   "source": [
    "thresh=0.7\n",
    "y_pred [y_pred > thresh] = 1\n",
    "y_pred [y_pred <= thresh] = 0"
   ]
  },
  {
   "cell_type": "code",
   "execution_count": 58,
   "metadata": {},
   "outputs": [
    {
     "data": {
      "text/plain": [
       "Counter({0.0: 205692, 1.0: 140018})"
      ]
     },
     "execution_count": 58,
     "metadata": {},
     "output_type": "execute_result"
    }
   ],
   "source": [
    "collections.Counter(y_pred)"
   ]
  },
  {
   "cell_type": "code",
   "execution_count": 68,
   "metadata": {},
   "outputs": [
    {
     "data": {
      "text/plain": [
       "0.4050157646582396"
      ]
     },
     "execution_count": 68,
     "metadata": {},
     "output_type": "execute_result"
    }
   ],
   "source": [
    "140018/(205692+140018)"
   ]
  },
  {
   "cell_type": "code",
   "execution_count": 49,
   "metadata": {},
   "outputs": [],
   "source": []
  }
 ],
 "metadata": {
  "kernelspec": {
   "display_name": "Python 3",
   "language": "python",
   "name": "python3"
  },
  "language_info": {
   "codemirror_mode": {
    "name": "ipython",
    "version": 3
   },
   "file_extension": ".py",
   "mimetype": "text/x-python",
   "name": "python",
   "nbconvert_exporter": "python",
   "pygments_lexer": "ipython3",
   "version": "3.7.3"
  }
 },
 "nbformat": 4,
 "nbformat_minor": 2
}
